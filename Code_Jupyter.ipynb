{
 "cells": [
  {
   "cell_type": "code",
   "execution_count": 1,
   "metadata": {},
   "outputs": [],
   "source": [
    "import numpy as np\n",
    "import pandas as pd"
   ]
  },
  {
   "cell_type": "markdown",
   "metadata": {},
   "source": [
    "Call Data"
   ]
  },
  {
   "cell_type": "code",
   "execution_count": 2,
   "metadata": {},
   "outputs": [],
   "source": [
    "dataset_calendar=r'C:\\Users\\User\\Desktop\\m5-forecasting-accuracy\\calendar.csv'\n",
    "data_calendar=pd.read_csv(dataset_calendar)\n",
    "dataset_sales_train_validation=r'C:\\Users\\User\\Desktop\\m5-forecasting-accuracy\\sales_train_validation.csv'\n",
    "data_sales_train_validation=pd.read_csv(dataset_sales_train_validation)"
   ]
  },
  {
   "cell_type": "markdown",
   "metadata": {},
   "source": [
    "Sample Data"
   ]
  },
  {
   "cell_type": "code",
   "execution_count": null,
   "metadata": {},
   "outputs": [],
   "source": [
    "data_calendar.head()"
   ]
  },
  {
   "cell_type": "code",
   "execution_count": null,
   "metadata": {},
   "outputs": [],
   "source": [
    "data_calendar.sample(5)"
   ]
  },
  {
   "cell_type": "code",
   "execution_count": null,
   "metadata": {},
   "outputs": [],
   "source": [
    "data_calendar.info()"
   ]
  },
  {
   "cell_type": "code",
   "execution_count": null,
   "metadata": {},
   "outputs": [],
   "source": [
    "data_sales_train_validation.head()"
   ]
  },
  {
   "cell_type": "code",
   "execution_count": null,
   "metadata": {},
   "outputs": [],
   "source": [
    "data_sales_train_validation.sample(5)"
   ]
  },
  {
   "cell_type": "code",
   "execution_count": null,
   "metadata": {},
   "outputs": [],
   "source": [
    "data_sales_train_validation.info()"
   ]
  },
  {
   "cell_type": "markdown",
   "metadata": {},
   "source": [
    "Make condition to seperate data"
   ]
  },
  {
   "cell_type": "code",
   "execution_count": null,
   "metadata": {},
   "outputs": [],
   "source": [
    "c1=data_sales_train_validation['state_id']=='CA'\n",
    "c2=data_sales_train_validation['state_id']=='TX'\n",
    "c3=data_sales_train_validation['state_id']=='WI'"
   ]
  },
  {
   "cell_type": "code",
   "execution_count": null,
   "metadata": {},
   "outputs": [],
   "source": [
    "CAV=data_sales_train_validation[c1]\n",
    "TXV=data_sales_train_validation[(c2)]\n",
    "WIV=data_sales_train_validation[(c3)]"
   ]
  },
  {
   "cell_type": "markdown",
   "metadata": {},
   "source": [
    "Save files"
   ]
  },
  {
   "cell_type": "code",
   "execution_count": null,
   "metadata": {},
   "outputs": [],
   "source": [
    "filepath=r'C:\\Users\\User\\Desktop\\m5-forecasting-accuracy\\Classify_File_Validation\\CAV.csv'\n",
    "CAV.to_csv(filepath,index=False)"
   ]
  },
  {
   "cell_type": "code",
   "execution_count": null,
   "metadata": {},
   "outputs": [],
   "source": [
    "filepath=r'C:\\Users\\User\\Desktop\\m5-forecasting-accuracy\\Classify_File_Validation\\TXV.csv'\n",
    "TXV.to_csv(filepath,index=False)"
   ]
  },
  {
   "cell_type": "code",
   "execution_count": null,
   "metadata": {},
   "outputs": [],
   "source": [
    "filepath=r'C:\\Users\\User\\Desktop\\m5-forecasting-accuracy\\Classify_File_Validation\\WIV.csv'\n",
    "WIV.to_csv(filepath,index=False)"
   ]
  },
  {
   "cell_type": "markdown",
   "metadata": {},
   "source": [
    "Sum the Data and Save into new Files"
   ]
  },
  {
   "cell_type": "code",
   "execution_count": null,
   "metadata": {},
   "outputs": [],
   "source": [
    "#Call Data Again\n",
    "CAV=pd.read_csv(r'C:\\Users\\User\\Desktop\\m5-forecasting-accuracy\\Classify_File_Validation\\CAV.csv')\n",
    "TXV=pd.read_csv(r'C:\\Users\\User\\Desktop\\m5-forecasting-accuracy\\Classify_File_Validation\\TXV.csv')\n",
    "WIV=pd.read_csv(r'C:\\Users\\User\\Desktop\\m5-forecasting-accuracy\\Classify_File_Validation\\WIV.csv')"
   ]
  },
  {
   "cell_type": "markdown",
   "metadata": {},
   "source": [
    "Sum CA"
   ]
  },
  {
   "cell_type": "code",
   "execution_count": null,
   "metadata": {},
   "outputs": [],
   "source": [
    "newCA=CAV.agg(['sum'])\n",
    "newCA=pd.DataFrame(newCA)\n",
    "sumCA = newCA.drop(['id','item_id','dept_id','cat_id','store_id','state_id'],1)\n",
    "sumCA= pd.DataFrame(sumCA)\n",
    "sumCA=sumCA.transpose()\n",
    "filepath=r'C:\\Users\\User\\Desktop\\m5-forecasting-accuracy\\Classify_File_Validation\\Sum_Validation\\sumCAV.csv'\n",
    "sumCA.to_csv(filepath,index=False)"
   ]
  },
  {
   "cell_type": "markdown",
   "metadata": {},
   "source": [
    "Sum TX"
   ]
  },
  {
   "cell_type": "code",
   "execution_count": null,
   "metadata": {},
   "outputs": [],
   "source": [
    "newTX=TXV.agg(['sum'])\n",
    "newTX=pd.DataFrame(newTX)\n",
    "sumTX = newTX.drop(['id','item_id','dept_id','cat_id','store_id','state_id'],1)\n",
    "sumTX= pd.DataFrame(sumTX)\n",
    "sumTX=sumTX.transpose()\n",
    "filepath=r'C:\\Users\\User\\Desktop\\m5-forecasting-accuracy\\Classify_File_Validation\\Sum_Validation\\sumTXV.csv'\n",
    "sumTX.to_csv(filepath,index=False)"
   ]
  },
  {
   "cell_type": "markdown",
   "metadata": {},
   "source": [
    "Sum WI"
   ]
  },
  {
   "cell_type": "code",
   "execution_count": null,
   "metadata": {},
   "outputs": [],
   "source": [
    "newWI=WIV.agg(['sum'])\n",
    "newWI=pd.DataFrame(newWI)\n",
    "sumWI = newWI.drop(['id','item_id','dept_id','cat_id','store_id','state_id'],1)\n",
    "sumWI= pd.DataFrame(sumWI)\n",
    "sumWI=sumWI.transpose()\n",
    "filepath=r'C:\\Users\\User\\Desktop\\m5-forecasting-accuracy\\Classify_File_Validation\\Sum_Validation\\sumWIV.csv'\n",
    "sumWI.to_csv(filepath,index=False)"
   ]
  },
  {
   "cell_type": "markdown",
   "metadata": {},
   "source": [
    "Link calendar's date to files"
   ]
  },
  {
   "cell_type": "code",
   "execution_count": null,
   "metadata": {},
   "outputs": [],
   "source": [
    "#Call Data again\n",
    "CAV=pd.read_csv(r'C:\\Users\\User\\Desktop\\m5-forecasting-accuracy\\Classify_File_Validation\\Sum_Validation\\sumCAV.csv')\n",
    "TXV=pd.read_csv(r'C:\\Users\\User\\Desktop\\m5-forecasting-accuracy\\Classify_File_Validation\\Sum_Validation\\sumTXV.csv')\n",
    "WIV=pd.read_csv(r'C:\\Users\\User\\Desktop\\m5-forecasting-accuracy\\Classify_File_Validation\\Sum_Validation\\sumWIV.csv')"
   ]
  },
  {
   "cell_type": "code",
   "execution_count": null,
   "metadata": {},
   "outputs": [],
   "source": [
    "#Call Calendar file \n",
    "dataset_calendar=r'C:\\Users\\User\\Desktop\\m5-forecasting-accuracy\\calendar.csv'\n",
    "data_calendar=pd.read_csv(dataset_calendar)"
   ]
  },
  {
   "cell_type": "markdown",
   "metadata": {},
   "source": [
    "Link Date to Sum of Quantity can be saled"
   ]
  },
  {
   "cell_type": "code",
   "execution_count": null,
   "metadata": {},
   "outputs": [],
   "source": [
    "#Link to CA\n",
    "newcal=pd.concat([data_calendar,CAV],axis=1)\n",
    "newcal=pd.DataFrame(newcal)\n",
    "sumCA = newcal.drop(['wm_yr_wk','weekday','wday','month','year','event_name_1',\n",
    "                           'event_type_1','event_name_2','event_type_2','snap_CA','snap_TX','snap_WI'],1)\n",
    "sumCA= pd.DataFrame(sumCA)\n",
    "filepath=r'C:\\Users\\User\\Desktop\\m5-forecasting-accuracy\\Validation(Calendar)\\Date_CAV.csv'\n",
    "sumCA.to_csv(filepath,index=False)"
   ]
  },
  {
   "cell_type": "code",
   "execution_count": null,
   "metadata": {},
   "outputs": [],
   "source": [
    "#Link to TX\n",
    "newcal=pd.concat([data_calendar,TXV],axis=1)\n",
    "newcal=pd.DataFrame(newcal)\n",
    "sumTX = newcal.drop(['wm_yr_wk','weekday','wday','month','year','event_name_1',\n",
    "                           'event_type_1','event_name_2','event_type_2','snap_CA','snap_TX','snap_WI'],1)\n",
    "sumTX= pd.DataFrame(sumTX)\n",
    "filepath=r'C:\\Users\\User\\Desktop\\m5-forecasting-accuracy\\Validation(Calendar)\\Date_TXV.csv'\n",
    "sumTX.to_csv(filepath,index=False)"
   ]
  },
  {
   "cell_type": "code",
   "execution_count": null,
   "metadata": {},
   "outputs": [],
   "source": [
    "#Link to WI\n",
    "newcal=pd.concat([data_calendar,WIV],axis=1)\n",
    "newcal=pd.DataFrame(newcal)\n",
    "sumWI = newcal.drop(['wm_yr_wk','weekday','wday','month','year','event_name_1',\n",
    "                           'event_type_1','event_name_2','event_type_2','snap_CA','snap_TX','snap_WI'],1)\n",
    "sumWI= pd.DataFrame(sumWI)\n",
    "filepath=r'C:\\Users\\User\\Desktop\\m5-forecasting-accuracy\\Validation(Calendar)\\Date_WIV.csv'\n",
    "sumWI.to_csv(filepath,index=False)"
   ]
  },
  {
   "cell_type": "markdown",
   "metadata": {},
   "source": [
    "Train model AR,MA,ARMA,ARIMA"
   ]
  },
  {
   "cell_type": "code",
   "execution_count": null,
   "metadata": {},
   "outputs": [],
   "source": [
    "#Import Library to use\n",
    "import matplotlib.pyplot as plt\n",
    "import statsmodels.api as sm\n",
    "from numpy import cumsum\n",
    "from statsmodels.tsa.statespace.sarimax import SARIMAX\n",
    "from sklearn.metrics import mean_squared_error,mean_absolute_error,r2_score"
   ]
  },
  {
   "cell_type": "code",
   "execution_count": null,
   "metadata": {},
   "outputs": [],
   "source": [
    "#Call Data again\n",
    "CAV=pd.read_csv(r'C:\\Users\\User\\Desktop\\m5-forecasting-accuracy\\Model(Validation)\\CAV.csv')\n",
    "TXV=pd.read_csv(r'C:\\Users\\User\\Desktop\\m5-forecasting-accuracy\\Model(Validation)\\TXV.csv')\n",
    "WIV=pd.read_csv(r'C:\\Users\\User\\Desktop\\m5-forecasting-accuracy\\Model(Validation)\\WIV.csv')"
   ]
  },
  {
   "cell_type": "code",
   "execution_count": null,
   "metadata": {},
   "outputs": [],
   "source": [
    "#Choose Data to use to predict to find result(Don't forget to add \"#\" in front of data that  you don't want to use)\n",
    "raw_data=CAV\n",
    "raw_data=TXV\n",
    "raw_data=WIV"
   ]
  },
  {
   "cell_type": "code",
   "execution_count": null,
   "metadata": {},
   "outputs": [],
   "source": [
    "#make Date into Timestamp\n",
    "raw_data.date=pd.to_datetime(raw_data.date) #Change Column into Timestamp\n",
    "raw_data.set_index('date',inplace=True) #change timestamps to index of DataFrame"
   ]
  },
  {
   "cell_type": "code",
   "execution_count": null,
   "metadata": {},
   "outputs": [],
   "source": [
    "#Eliminate Inf and NaN in the DataFrame\n",
    "df=raw_data[raw_data.replace([np.inf, -np.inf], np.nan).notnull().all(axis=1)]"
   ]
  },
  {
   "cell_type": "code",
   "execution_count": null,
   "metadata": {},
   "outputs": [],
   "source": [
    "#Drop column that don't need to be use\n",
    "df=df.drop(['d','index'],1)"
   ]
  },
  {
   "cell_type": "code",
   "execution_count": null,
   "metadata": {},
   "outputs": [],
   "source": [
    "#Plot Graph of sum of quality of item\n",
    "raw_data['sum'].plot()\n",
    "plt.title('Raw_data_WI') #can change name according to file that you use\n",
    "plt.savefig(r'C:\\Users\\User\\Desktop\\m5-forecasting-accuracy\\Picture_plot\\RAW_data.png', bbox_inches='tight')# save the figure to file\n",
    "plt.show"
   ]
  },
  {
   "cell_type": "code",
   "execution_count": null,
   "metadata": {},
   "outputs": [],
   "source": [
    "#Compute and print ADF p-value to check it stationary or not\n",
    "result=adfuller(df['sum'])\n",
    "print(\"The p-value for the ADF test is\",result[1],'')"
   ]
  },
  {
   "cell_type": "code",
   "execution_count": null,
   "metadata": {},
   "outputs": [],
   "source": [
    "#import the modules for plotting the sample ACF and PACF\n",
    "from statsmodels.graphics.tsaplots import plot_acf,plot_pacf"
   ]
  },
  {
   "cell_type": "code",
   "execution_count": null,
   "metadata": {},
   "outputs": [],
   "source": [
    "#Take first difference of the data to make it stationary\n",
    "chg_quantity=df.diff()\n",
    "#after take differential the some row of data will turn to be NaN so we need to drop NaN column to prevent error \n",
    "chg_quantity=chg_quantity.dropna()"
   ]
  },
  {
   "cell_type": "code",
   "execution_count": null,
   "metadata": {},
   "outputs": [],
   "source": [
    "#Check P-Value again\n",
    "result=adfuller(chg_quantity['sum'])\n",
    "print(\"The p-value for the ADF test is\",result[1],'')"
   ]
  },
  {
   "cell_type": "markdown",
   "metadata": {},
   "source": [
    "Find and Choose Model"
   ]
  },
  {
   "cell_type": "code",
   "execution_count": null,
   "metadata": {},
   "outputs": [],
   "source": [
    "#plot the ACF and PACF on the same page\n",
    "fig,axes=plt.subplots(2,1)\n",
    "plot_acf(chg_quantity['sum'],lags=10,zero=False,ax=axes[0])\n",
    "plot_pacf(chg_quantity['sum'],lags=10,zero=False,ax=axes[1])\n",
    "plt.show()"
   ]
  },
  {
   "cell_type": "code",
   "execution_count": null,
   "metadata": {},
   "outputs": [],
   "source": [
    "#save picture of ACF\n",
    "plot_acf(chg_quantity['sum'],lags=10,zero=False)\n",
    "plt.savefig(r'C:\\Users\\User\\Desktop\\m5-forecasting-accuracy\\Picture_plot\\ACF.png', bbox_inches='tight')# save the figure to file\n",
    "plt.show()"
   ]
  },
  {
   "cell_type": "code",
   "execution_count": null,
   "metadata": {},
   "outputs": [],
   "source": [
    "#Save picture of PACF\n",
    "plot_pacf(chg_quantity['sum'],lags=10,zero=False)\n",
    "plt.savefig(r'C:\\Users\\User\\Desktop\\m5-forecasting-accuracy\\Picture_plot\\PACF.png', bbox_inches='tight')# save the figure to file\n",
    "plt.show()"
   ]
  },
  {
   "cell_type": "markdown",
   "metadata": {},
   "source": [
    "Find and Choose Order"
   ]
  },
  {
   "cell_type": "code",
   "execution_count": null,
   "metadata": {},
   "outputs": [],
   "source": [
    "#Use information Criteria AIC and BIC values to find the best order of this data\n",
    "order_aic_bic=[]\n",
    "#loop over AR order\n",
    "for p in range(10):\n",
    "    #Loop over MA order\n",
    "    for q in range(10):\n",
    "        #fit model\n",
    "        model=SARIMAX(chg_quantity,order=(p,1,q))\n",
    "        results=model.fit()\n",
    "        #add order and score to list\n",
    "        order_aic_bic.append((p,q,results.aic,results.bic))"
   ]
  },
  {
   "cell_type": "code",
   "execution_count": null,
   "metadata": {},
   "outputs": [],
   "source": [
    "#make DataFrame of model order(p,q ,AIC,BIC)\n",
    "order_df=pd.DataFrame(order_aic_bic,columns=['p','q','AIC','BIC'])"
   ]
  },
  {
   "cell_type": "code",
   "execution_count": null,
   "metadata": {},
   "outputs": [],
   "source": [
    "#sort by AIC use the smallest values \n",
    "print(order_df.sort_values('AIC').head())"
   ]
  },
  {
   "cell_type": "code",
   "execution_count": null,
   "metadata": {},
   "outputs": [],
   "source": [
    "#sort by BIC use the smallest values\n",
    "print(order_df.sort_values('BIC').head())"
   ]
  },
  {
   "cell_type": "markdown",
   "metadata": {},
   "source": [
    "Train model(Show how to use every model)"
   ]
  },
  {
   "cell_type": "markdown",
   "metadata": {},
   "source": [
    "AR Model"
   ]
  },
  {
   "cell_type": "code",
   "execution_count": null,
   "metadata": {},
   "outputs": [],
   "source": [
    "#AR Model\n",
    "model=SARIMAX(chg_quantity['sum'],order=(7,0,0))\n",
    "#fit model\n",
    "results=model.fit()\n",
    "#make forecast\n",
    "diff_forecast=results.get_forecast(steps=365).predicted_mean\n",
    "#reconstruct data return from differential of data to the data before differential\n",
    "mean_forecast=cumsum(diff_forecast)+df.iloc[-1,0]"
   ]
  },
  {
   "cell_type": "code",
   "execution_count": null,
   "metadata": {},
   "outputs": [],
   "source": [
    "#Show graph and save picture of it\n",
    "plt.plot(df,label='quantity')\n",
    "plt.plot(mean_forecast.index, mean_forecast, color='r', label='forecast')\n",
    "plt.title('AR_Forecast_1-year')\n",
    "plt.xlabel('Date')\n",
    "plt.ylabel('Quantity sales')\n",
    "plt.legend()\n",
    "plt.savefig(r'C:\\Users\\User\\Desktop\\m5-forecasting-accuracy\\Picture_plot\\AR_forecast.png', bbox_inches='tight')# save the figure to file\n",
    "plt.show()"
   ]
  },
  {
   "cell_type": "code",
   "execution_count": null,
   "metadata": {},
   "outputs": [],
   "source": [
    "#find mean absolute error to check the error of data\n",
    "#Assign residuals to variable\n",
    "residuals=results.resid #results from above \n",
    "#calculate the mean absolute error\n",
    "mae=np.mean(np.abs(residuals))\n",
    "print(mae)"
   ]
  },
  {
   "cell_type": "markdown",
   "metadata": {},
   "source": [
    "MA Model"
   ]
  },
  {
   "cell_type": "code",
   "execution_count": null,
   "metadata": {},
   "outputs": [],
   "source": [
    "#MA Model\n",
    "model=SARIMAX(chg_quantity['sum'],order=(0,0,9))\n",
    "#fit model\n",
    "results=model.fit()\n",
    "#make forecast\n",
    "diff_forecast=results.get_forecast(steps=365).predicted_mean\n",
    "#reconstruct data return from differential of data to the data before differential\n",
    "mean_forecast=cumsum(diff_forecast)+df.iloc[-1,0]"
   ]
  },
  {
   "cell_type": "code",
   "execution_count": null,
   "metadata": {},
   "outputs": [],
   "source": [
    "#Show graph and save picture of it\n",
    "plt.plot(df,label='quantity')\n",
    "plt.plot(mean_forecast.index, mean_forecast, color='r', label='forecast')\n",
    "plt.title('MA_Forecast_1-year')\n",
    "plt.xlabel('Date')\n",
    "plt.ylabel('Quantity sales')\n",
    "plt.legend()\n",
    "plt.savefig(r'C:\\Users\\User\\Desktop\\m5-forecasting-accuracy\\Picture_plot\\MA_forecast.png', bbox_inches='tight')# save the figure to file\n",
    "plt.show()"
   ]
  },
  {
   "cell_type": "code",
   "execution_count": null,
   "metadata": {},
   "outputs": [],
   "source": [
    "#find mean absolute error to check the error of data\n",
    "#Assign residuals to variable\n",
    "residuals=results.resid #results from above \n",
    "#calculate the mean absolute error\n",
    "mae=np.mean(np.abs(residuals))\n",
    "print(mae)"
   ]
  },
  {
   "cell_type": "markdown",
   "metadata": {},
   "source": [
    "ARMA Model"
   ]
  },
  {
   "cell_type": "code",
   "execution_count": null,
   "metadata": {},
   "outputs": [],
   "source": [
    "#ARMA Model\n",
    "model=SARIMAX(chg_quantity['sum'],order=(7,0,9))\n",
    "#fit model\n",
    "results=model.fit()\n",
    "#make forecast\n",
    "diff_forecast=results.get_forecast(steps=365).predicted_mean\n",
    "#reconstruct data return from differential of data to the data before differential\n",
    "mean_forecast=cumsum(diff_forecast)+df.iloc[-1,0]"
   ]
  },
  {
   "cell_type": "code",
   "execution_count": null,
   "metadata": {},
   "outputs": [],
   "source": [
    "#Show graph and save picture of it\n",
    "plt.plot(df,label='quantity')\n",
    "plt.plot(mean_forecast.index, mean_forecast, color='r', label='forecast')\n",
    "plt.title('ARMA_Forecast_1-year')\n",
    "plt.xlabel('Date')\n",
    "plt.ylabel('Quantity sales')\n",
    "plt.legend()\n",
    "plt.savefig(r'C:\\Users\\User\\Desktop\\m5-forecasting-accuracy\\Picture_plot\\ARMA_forecast.png', bbox_inches='tight')# save the figure to file\n",
    "plt.show()"
   ]
  },
  {
   "cell_type": "code",
   "execution_count": null,
   "metadata": {},
   "outputs": [],
   "source": [
    "#find mean absolute error to check the error of data\n",
    "#Assign residuals to variable\n",
    "residuals=results.resid #results from above \n",
    "#calculate the mean absolute error\n",
    "mae=np.mean(np.abs(residuals))\n",
    "print(mae)"
   ]
  },
  {
   "cell_type": "markdown",
   "metadata": {},
   "source": [
    "ARIMA Model"
   ]
  },
  {
   "cell_type": "code",
   "execution_count": null,
   "metadata": {},
   "outputs": [],
   "source": [
    "#Created Model for ARIMA\n",
    "from statsmodels.tsa.statespace.sarimax import SARIMAX\n",
    "model=SARIMAX(chg_quantity['sum'],order=(7,1,9))\n",
    "#fit model\n",
    "results=model.fit()\n",
    "#make forecast\n",
    "diff_forecast=results.get_forecast(steps=365).predicted_mean\n",
    "#reconstruct data return from differential of data to the data before differential\n",
    "mean_forecast=cumsum(diff_forecast)+df.iloc[-1,0]"
   ]
  },
  {
   "cell_type": "code",
   "execution_count": null,
   "metadata": {},
   "outputs": [],
   "source": [
    "#Show graph and save picture of it\n",
    "plt.plot(df,label='quantity')\n",
    "plt.plot(mean_forecast.index, mean_forecast, color='r', label='forecast')\n",
    "plt.title('ARIMA_Forecast_1-year')\n",
    "plt.xlabel('Date')\n",
    "plt.ylabel('Quantity sales')\n",
    "plt.legend()\n",
    "plt.savefig(r'C:\\Users\\User\\Desktop\\m5-forecasting-accuracy\\Picture_plot\\ARIMA_forecast.png', bbox_inches='tight')# save the figure to file\n",
    "plt.show()"
   ]
  },
  {
   "cell_type": "code",
   "execution_count": null,
   "metadata": {},
   "outputs": [],
   "source": [
    "#Focus on 2016\n",
    "plt.plot(df.loc['2016'],label='quantity')\n",
    "plt.plot(mean_forecast.index, mean_forecast, color='r', label='forecast')\n",
    "plt.xlabel('Date')\n",
    "plt.ylabel('Quantity sales')\n",
    "plt.legend()\n",
    "plt.savefig(r'C:\\Users\\User\\Desktop\\m5-forecasting-accuracy\\Picture_plot\\ARIMA_forecast_focus_2016.png', bbox_inches='tight')# save the figure to file\n",
    "plt.show()"
   ]
  },
  {
   "cell_type": "code",
   "execution_count": null,
   "metadata": {},
   "outputs": [],
   "source": [
    "#find mean absolute error to check the error of data\n",
    "#Assign residuals to variable\n",
    "residuals=results.resid #results from above \n",
    "#calculate the mean absolute error\n",
    "mae=np.mean(np.abs(residuals))\n",
    "print(mae)"
   ]
  },
  {
   "cell_type": "markdown",
   "metadata": {},
   "source": [
    "Check accuracy of the model by usin Train-Test Split method(Using ARIMA model)"
   ]
  },
  {
   "cell_type": "code",
   "execution_count": null,
   "metadata": {},
   "outputs": [],
   "source": [
    "# Create Training and Test\n",
    "#train data = 80% of actual data\n",
    "train_data=df['sum'][:1721]\n",
    "test_data=df['sum'][1721:]\n",
    "#test data = 20% of actual data\n",
    "df_test=chg_quantity\n",
    "train = train_data.diff().dropna()\n",
    "test = df_test['sum'][1721:]"
   ]
  },
  {
   "cell_type": "code",
   "execution_count": null,
   "metadata": {},
   "outputs": [],
   "source": [
    "#change to dataframe\n",
    "train_data_DATAFRAME=train_data.to_frame()"
   ]
  },
  {
   "cell_type": "code",
   "execution_count": null,
   "metadata": {},
   "outputs": [],
   "source": [
    "# Build Model\n",
    "model=SARIMAX(train,order=(7,1,9)) #Can change order to use other model to check on train test split\n",
    "#fit model\n",
    "results=model.fit()\n",
    "#make forecast\n",
    "diff_forecast=results.get_forecast(steps=192).predicted_mean\n",
    "#reconstruct data return from differential of data to the data before differential\n",
    "mean_forecast=cumsum(diff_forecast)+train_data_DATAFRAME.iloc[-1,0]"
   ]
  },
  {
   "cell_type": "code",
   "execution_count": null,
   "metadata": {},
   "outputs": [],
   "source": [
    "# Plot \n",
    "plt.figure(figsize=(12,5), dpi=100)\n",
    "plt.plot(train_data, label='training')\n",
    "plt.plot(test_data, label='actual')\n",
    "plt.plot(mean_forecast, label='forecast')\n",
    "plt.fill_between(test_data.index,test_data, mean_forecast, \n",
    "                 color='k', alpha=.15)\n",
    "plt.title('ARIMA_Forecast vs Actuals')\n",
    "plt.legend(loc='upper left', fontsize=8)\n",
    "plt.savefig(r'C:\\Users\\User\\Desktop\\m5-forecasting-accuracy\\Picture_plot\\ARIMA_train_test_split.png', bbox_inches='tight')# save the figure to file\n",
    "plt.show()"
   ]
  },
  {
   "cell_type": "code",
   "execution_count": null,
   "metadata": {},
   "outputs": [],
   "source": [
    "#Check Mean absolute error\n",
    "errorTestSet = mean_absolute_error(test_data, mean_forecast)\n",
    "print('ARIMA Error Test is',errorTestSet)"
   ]
  }
 ],
 "metadata": {
  "kernelspec": {
   "display_name": "Python 3",
   "language": "python",
   "name": "python3"
  },
  "language_info": {
   "codemirror_mode": {
    "name": "ipython",
    "version": 3
   },
   "file_extension": ".py",
   "mimetype": "text/x-python",
   "name": "python",
   "nbconvert_exporter": "python",
   "pygments_lexer": "ipython3",
   "version": "3.7.3"
  }
 },
 "nbformat": 4,
 "nbformat_minor": 2
}
